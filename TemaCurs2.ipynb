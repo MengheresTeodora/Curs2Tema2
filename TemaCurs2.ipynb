{
 "cells": [
  {
   "cell_type": "code",
   "execution_count": 23,
   "metadata": {},
   "outputs": [
    {
     "name": "stdout",
     "output_type": "stream",
     "text": [
      "1.Import numpy as np\n"
     ]
    }
   ],
   "source": [
    "print(\"1.Import numpy as np\")"
   ]
  },
  {
   "cell_type": "code",
   "execution_count": 6,
   "metadata": {},
   "outputs": [],
   "source": [
    "import numpy as np"
   ]
  },
  {
   "cell_type": "code",
   "execution_count": 24,
   "metadata": {},
   "outputs": [
    {
     "name": "stdout",
     "output_type": "stream",
     "text": [
      "2.Create 10 zeroes\n"
     ]
    }
   ],
   "source": [
    "print(\"2.Create 10 zeroes\")"
   ]
  },
  {
   "cell_type": "code",
   "execution_count": 2,
   "metadata": {},
   "outputs": [
    {
     "data": {
      "text/plain": [
       "array([0., 0., 0., 0., 0., 0., 0., 0., 0., 0.])"
      ]
     },
     "execution_count": 2,
     "metadata": {},
     "output_type": "execute_result"
    }
   ],
   "source": [
    "np.zeros(10)"
   ]
  },
  {
   "cell_type": "code",
   "execution_count": 25,
   "metadata": {},
   "outputs": [
    {
     "name": "stdout",
     "output_type": "stream",
     "text": [
      "3.Create a vector with values ranging from 10 to 100\n"
     ]
    }
   ],
   "source": [
    "print(\"3.Create a vector with values ranging from 10 to 100\")"
   ]
  },
  {
   "cell_type": "code",
   "execution_count": 157,
   "metadata": {},
   "outputs": [
    {
     "name": "stdout",
     "output_type": "stream",
     "text": [
      "Original array:\n",
      "[10 11 12 13 14 15 16 17 18 19 20 21 22 23 24 25 26 27 28 29 30 31 32 33\n",
      " 34 35 36 37 38 39 40 41 42 43 44 45 46 47 48 49 50 51 52 53 54 55 56 57\n",
      " 58 59 60 61 62 63 64 65 66 67 68 69 70 71 72 73 74 75 76 77 78 79 80 81\n",
      " 82 83 84 85 86 87 88 89 90 91 92 93 94 95 96 97 98 99]\n"
     ]
    }
   ],
   "source": [
    "X = np.arange(10,100)\n",
    "print(\"Original array:\")\n",
    "print(X)\n"
   ]
  },
  {
   "cell_type": "code",
   "execution_count": 26,
   "metadata": {},
   "outputs": [
    {
     "name": "stdout",
     "output_type": "stream",
     "text": [
      "4.Reverse it\n"
     ]
    }
   ],
   "source": [
    "print(\"4.Reverse it\")"
   ]
  },
  {
   "cell_type": "code",
   "execution_count": 53,
   "metadata": {},
   "outputs": [
    {
     "name": "stdout",
     "output_type": "stream",
     "text": [
      "Reverse array:\n",
      "[99 98 97 96 95 94 93 92 91 90 89 88 87 86 85 84 83 82 81 80 79 78 77 76\n",
      " 75 74 73 72 71 70 69 68 67 66 65 64 63 62 61 60 59 58 57 56 55 54 53 52\n",
      " 51 50 49 48 47 46 45 44 43 42 41 40 39 38 37 36 35 34 33 32 31 30 29 28\n",
      " 27 26 25 24 23 22 21 20 19 18 17 16 15 14 13 12 11 10]\n"
     ]
    }
   ],
   "source": [
    "\n",
    "print(\"Reverse array:\")\n",
    "X= X[::-1]\n",
    "print(X)\n",
    "\n"
   ]
  },
  {
   "cell_type": "code",
   "execution_count": 52,
   "metadata": {},
   "outputs": [
    {
     "name": "stdout",
     "output_type": "stream",
     "text": [
      "5.Reshape it to a 3x30\n"
     ]
    }
   ],
   "source": [
    "print(\"5.Reshape it to a 3x30\")"
   ]
  },
  {
   "cell_type": "code",
   "execution_count": 58,
   "metadata": {
    "scrolled": true
   },
   "outputs": [
    {
     "name": "stdout",
     "output_type": "stream",
     "text": [
      "[[10 11 12 13 14 15 16 17 18 19 20 21 22 23 24 25 26 27 28 29 30 31 32 33\n",
      "  34 35 36 37 38 39]\n",
      " [40 41 42 43 44 45 46 47 48 49 50 51 52 53 54 55 56 57 58 59 60 61 62 63\n",
      "  64 65 66 67 68 69]\n",
      " [70 71 72 73 74 75 76 77 78 79 80 81 82 83 84 85 86 87 88 89 90 91 92 93\n",
      "  94 95 96 97 98 99]]\n"
     ]
    }
   ],
   "source": [
    "Y_reshaped = Y.reshape(3,30)\n",
    "print(Y_reshaped)"
   ]
  },
  {
   "cell_type": "code",
   "execution_count": 59,
   "metadata": {},
   "outputs": [
    {
     "name": "stdout",
     "output_type": "stream",
     "text": [
      "6.Create the vector with elems 1,2,9,0,0,1,4,0. Find indices of non-zero elems\n"
     ]
    }
   ],
   "source": [
    "print(\"6.Create the vector with elems 1,2,9,0,0,1,4,0. Find indices of non-zero elems\")"
   ]
  },
  {
   "cell_type": "code",
   "execution_count": 61,
   "metadata": {},
   "outputs": [
    {
     "data": {
      "text/plain": [
       "[1, 2, 9, 0, 0, 1, 4, 0]"
      ]
     },
     "execution_count": 61,
     "metadata": {},
     "output_type": "execute_result"
    }
   ],
   "source": [
    "X=[1,2,9,0,0,1,4,0]\n",
    "X"
   ]
  },
  {
   "cell_type": "code",
   "execution_count": 62,
   "metadata": {},
   "outputs": [
    {
     "data": {
      "text/plain": [
       "(array([0, 1, 2, 5, 6], dtype=int64),)"
      ]
     },
     "execution_count": 62,
     "metadata": {},
     "output_type": "execute_result"
    }
   ],
   "source": [
    "np.nonzero(X)"
   ]
  },
  {
   "cell_type": "code",
   "execution_count": 63,
   "metadata": {},
   "outputs": [
    {
     "name": "stdout",
     "output_type": "stream",
     "text": [
      "7.Create a 3x3 identity matrix\n"
     ]
    }
   ],
   "source": [
    "print(\"7.Create a 3x3 identity matrix\")"
   ]
  },
  {
   "cell_type": "code",
   "execution_count": 13,
   "metadata": {},
   "outputs": [
    {
     "name": "stdout",
     "output_type": "stream",
     "text": [
      "The identity matrix:\n",
      "[[1 0 0]\n",
      " [0 1 0]\n",
      " [0 0 1]]\n"
     ]
    }
   ],
   "source": [
    "print(\"The identity matrix:\")\n",
    "I=np.eye(3,dtype=int)\n",
    "print(I)\n"
   ]
  },
  {
   "cell_type": "code",
   "execution_count": 11,
   "metadata": {},
   "outputs": [
    {
     "name": "stdout",
     "output_type": "stream",
     "text": [
      "8.Create a random vector of size 50 with values uniformely distributed in (-1, 1). Find the average of these values.\n"
     ]
    }
   ],
   "source": [
    "print(\"8.Create a random vector of size 50 with values uniformely distributed in (-1, 1). Find the average of these values.\")"
   ]
  },
  {
   "cell_type": "code",
   "execution_count": 17,
   "metadata": {},
   "outputs": [
    {
     "name": "stdout",
     "output_type": "stream",
     "text": [
      "[ 0.18106812  0.04703321  0.01227781 -0.58487186  0.90650837  0.02991835\n",
      " -0.58926328  0.28967059 -0.11881492  0.06983226 -0.82598901  0.2758421\n",
      " -0.13779061  0.75849172 -0.87439861 -0.19122093 -0.69879304 -0.69027209\n",
      " -0.01804043 -0.73982433 -0.08175448  0.05084432 -0.94069604  0.37017548\n",
      "  0.97107353  0.38132776 -0.04961565  0.81881462 -0.39473851  0.16193199\n",
      "  0.65613541  0.76994619  0.5213599   0.91992933  0.31136025  0.60781815\n",
      " -0.42735884 -0.4536837   0.7539748  -0.76614696 -0.03798056 -0.49232586\n",
      " -0.41703925  0.63813866  0.18550107 -0.63946696 -0.63807593  0.02448429\n",
      "  0.36159089  0.6277961 ]\n"
     ]
    }
   ],
   "source": [
    "Z=np.random.uniform(-1,1,50)\n",
    "print(Z)"
   ]
  },
  {
   "cell_type": "code",
   "execution_count": 20,
   "metadata": {},
   "outputs": [
    {
     "data": {
      "text/plain": [
       "0.017893667907193732"
      ]
     },
     "execution_count": 20,
     "metadata": {},
     "output_type": "execute_result"
    }
   ],
   "source": [
    "np.average(Z)"
   ]
  },
  {
   "cell_type": "code",
   "execution_count": 21,
   "metadata": {},
   "outputs": [
    {
     "data": {
      "text/plain": [
       "0.017893667907193732"
      ]
     },
     "execution_count": 21,
     "metadata": {},
     "output_type": "execute_result"
    }
   ],
   "source": [
    "np.mean(Z)"
   ]
  },
  {
   "cell_type": "code",
   "execution_count": 23,
   "metadata": {},
   "outputs": [
    {
     "name": "stdout",
     "output_type": "stream",
     "text": [
      "9.Create a 5x5 matrix with 1,2,3,4 just below the 1st diag and 0 in rest.\n"
     ]
    }
   ],
   "source": [
    "print(\"9.Create a 5x5 matrix with 1,2,3,4 just below the 1st diag and 0 in rest.\")"
   ]
  },
  {
   "cell_type": "code",
   "execution_count": 27,
   "metadata": {},
   "outputs": [
    {
     "name": "stdout",
     "output_type": "stream",
     "text": [
      "[[0 0 0 0 0]\n",
      " [1 0 0 0 0]\n",
      " [0 2 0 0 0]\n",
      " [0 0 3 0 0]\n",
      " [0 0 0 4 0]]\n"
     ]
    }
   ],
   "source": [
    "W = np.diag(1+np.arange(4),k=-1)\n",
    "print(W)"
   ]
  },
  {
   "cell_type": "code",
   "execution_count": 28,
   "metadata": {},
   "outputs": [
    {
     "name": "stdout",
     "output_type": "stream",
     "text": [
      "10.Create a 5x3 matrix and a 3x4 one. Multiply them. \n"
     ]
    }
   ],
   "source": [
    "print(\"10.Create a 5x3 matrix and a 3x4 one. Multiply them. \")"
   ]
  },
  {
   "cell_type": "code",
   "execution_count": 47,
   "metadata": {},
   "outputs": [
    {
     "name": "stdout",
     "output_type": "stream",
     "text": [
      "[[ 1.1  2.   3.3]\n",
      " [ 4.   5.   6.5]\n",
      " [ 7.   8.   9.2]\n",
      " [10.  11.4 12. ]\n",
      " [13.1 14.  15. ]]\n"
     ]
    }
   ],
   "source": [
    "A=np.matrix('1.1 2 3.3; 4 5 6.5; 7 8 9.2; 10 11.4 12; 13.1 14 15')\n",
    "print(A)"
   ]
  },
  {
   "cell_type": "code",
   "execution_count": 92,
   "metadata": {},
   "outputs": [
    {
     "name": "stdout",
     "output_type": "stream",
     "text": [
      "[[ 1.9  2.   3.4  4. ]\n",
      " [ 5.   6.   7.5  8. ]\n",
      " [ 9.  10.5 11.  12. ]]\n"
     ]
    }
   ],
   "source": [
    "B=np.matrix('1.9 2 3.4 4; 5 6 7.5 8; 9 10.5 11 12')\n",
    "print(B)"
   ]
  },
  {
   "cell_type": "code",
   "execution_count": 48,
   "metadata": {},
   "outputs": [
    {
     "name": "stdout",
     "output_type": "stream",
     "text": [
      "[[ 41.79  48.85  55.04  60.  ]\n",
      " [ 91.1  106.25 122.6  134.  ]\n",
      " [136.1  158.6  185.   202.4 ]\n",
      " [184.   214.4  251.5  275.2 ]\n",
      " [229.89 267.7  314.54 344.4 ]]\n"
     ]
    }
   ],
   "source": [
    "K = np.dot(A,B)\n",
    "print(K)"
   ]
  },
  {
   "cell_type": "code",
   "execution_count": 41,
   "metadata": {},
   "outputs": [
    {
     "name": "stdout",
     "output_type": "stream",
     "text": [
      "11.Using the previous matrix, extract a new one with just the integer part of the values. Find at least 4 methods of doing this.\n"
     ]
    }
   ],
   "source": [
    "print('11.Using the previous matrix, extract a new one with just the integer part of the values. Find at least 4 methods of doing this.')"
   ]
  },
  {
   "cell_type": "code",
   "execution_count": 50,
   "metadata": {},
   "outputs": [
    {
     "name": "stdout",
     "output_type": "stream",
     "text": [
      "PRIMA METODA:\n",
      "[[ 41.  48.  55.  60.]\n",
      " [ 91. 106. 122. 134.]\n",
      " [136. 158. 185. 202.]\n",
      " [184. 214. 251. 275.]\n",
      " [229. 267. 314. 344.]]\n"
     ]
    }
   ],
   "source": [
    "print('PRIMA METODA:')\n",
    "print (K - K%1)\n"
   ]
  },
  {
   "cell_type": "code",
   "execution_count": 54,
   "metadata": {},
   "outputs": [
    {
     "name": "stdout",
     "output_type": "stream",
     "text": [
      "A 2-a METODA:\n",
      "[[ 41.  48.  55.  60.]\n",
      " [ 91. 106. 122. 134.]\n",
      " [136. 158. 185. 202.]\n",
      " [184. 214. 251. 275.]\n",
      " [229. 267. 314. 344.]]\n"
     ]
    }
   ],
   "source": [
    "print('A 2-a METODA:')\n",
    "print (np.trunc(K))"
   ]
  },
  {
   "cell_type": "code",
   "execution_count": 55,
   "metadata": {},
   "outputs": [
    {
     "name": "stdout",
     "output_type": "stream",
     "text": [
      "A 3-a METODA:\n",
      "[[ 41  48  55  60]\n",
      " [ 91 106 122 134]\n",
      " [136 158 185 202]\n",
      " [184 214 251 275]\n",
      " [229 267 314 344]]\n"
     ]
    }
   ],
   "source": [
    "print('A 3-a METODA:')\n",
    "print (K.astype(int))"
   ]
  },
  {
   "cell_type": "code",
   "execution_count": 56,
   "metadata": {},
   "outputs": [
    {
     "name": "stdout",
     "output_type": "stream",
     "text": [
      "A 4-a METODA:\n",
      "[[ 41.  48.  55.  60.]\n",
      " [ 91. 106. 122. 134.]\n",
      " [136. 158. 185. 202.]\n",
      " [184. 214. 251. 275.]\n",
      " [229. 267. 314. 344.]]\n"
     ]
    }
   ],
   "source": [
    "print('A 4-a METODA:')\n",
    "print (np.floor(K))"
   ]
  },
  {
   "cell_type": "code",
   "execution_count": 58,
   "metadata": {},
   "outputs": [
    {
     "name": "stdout",
     "output_type": "stream",
     "text": [
      "12.Create a random vector of size 25. Sort it.\n"
     ]
    }
   ],
   "source": [
    "print('12.Create a random vector of size 25. Sort it.')"
   ]
  },
  {
   "cell_type": "code",
   "execution_count": 62,
   "metadata": {},
   "outputs": [
    {
     "name": "stdout",
     "output_type": "stream",
     "text": [
      "[0.59246696 0.20943225 0.34624479 0.86238714 0.33913555 0.47180423\n",
      " 0.525201   0.76652057 0.63652326 0.98445181 0.1914803  0.70599917\n",
      " 0.01007249 0.70000951 0.19243046 0.39149526 0.75219706 0.52300188\n",
      " 0.87005486 0.29931065 0.04334792 0.15711319 0.62211123 0.54298772\n",
      " 0.68786158]\n"
     ]
    }
   ],
   "source": [
    "L = np.random.random(25)\n",
    "print(L)"
   ]
  },
  {
   "cell_type": "code",
   "execution_count": 64,
   "metadata": {},
   "outputs": [
    {
     "name": "stdout",
     "output_type": "stream",
     "text": [
      "[0.01007249 0.04334792 0.15711319 0.1914803  0.19243046 0.20943225\n",
      " 0.29931065 0.33913555 0.34624479 0.39149526 0.47180423 0.52300188\n",
      " 0.525201   0.54298772 0.59246696 0.62211123 0.63652326 0.68786158\n",
      " 0.70000951 0.70599917 0.75219706 0.76652057 0.86238714 0.87005486\n",
      " 0.98445181]\n"
     ]
    }
   ],
   "source": [
    "L.sort()\n",
    "print(L)"
   ]
  },
  {
   "cell_type": "code",
   "execution_count": 65,
   "metadata": {},
   "outputs": [
    {
     "name": "stdout",
     "output_type": "stream",
     "text": [
      "13.Create a random 7x2 matrix representing 7 2D points. Convert them to polar coordinates.\n"
     ]
    }
   ],
   "source": [
    "print('13.Create a random 7x2 matrix representing 7 2D points. Convert them to polar coordinates.')"
   ]
  },
  {
   "cell_type": "code",
   "execution_count": 67,
   "metadata": {},
   "outputs": [
    {
     "name": "stdout",
     "output_type": "stream",
     "text": [
      "[[0.55985493 0.89127581]\n",
      " [0.13795388 0.92239656]\n",
      " [0.42583596 0.01678234]\n",
      " [0.76985378 0.56302628]\n",
      " [0.07262223 0.58927588]\n",
      " [0.211745   0.80366482]\n",
      " [0.96861751 0.80760816]]\n"
     ]
    }
   ],
   "source": [
    "A = np.random.random((7,2))\n",
    "print(A)"
   ]
  },
  {
   "cell_type": "code",
   "execution_count": 163,
   "metadata": {},
   "outputs": [
    {
     "name": "stdout",
     "output_type": "stream",
     "text": [
      "Coordonata polara \"r\":\n",
      "[92.4175308  81.60882305 66.37017402 43.18564576 84.52810184 60.41522987\n",
      " 90.42676595]\n",
      "Coordonata polara \"teta\":\n",
      "[0.62402305 1.2722974  1.46513074 1.47804001 1.11773033 1.14416883\n",
      " 1.39292106]\n"
     ]
    }
   ],
   "source": [
    "x,y = A[:,0], A[:,1]\n",
    "r = np.sqrt(x**2+y**2)\n",
    "teta = np.arctan2(y,x)\n",
    "print('Coordonata polara \"r\":')\n",
    "print(r)\n",
    "print('Coordonata polara \"teta\":')\n",
    "print(teta)"
   ]
  },
  {
   "cell_type": "code",
   "execution_count": 70,
   "metadata": {},
   "outputs": [
    {
     "name": "stdout",
     "output_type": "stream",
     "text": [
      "14.Generate a 10x10 matrix. Generate a single random number. Find the number in the matrix closest to it.\n"
     ]
    }
   ],
   "source": [
    "print('14.Generate a 10x10 matrix. Generate a single random number. Find the number in the matrix closest to it.')"
   ]
  },
  {
   "cell_type": "code",
   "execution_count": 147,
   "metadata": {},
   "outputs": [
    {
     "name": "stdout",
     "output_type": "stream",
     "text": [
      "[[22 26 33 82 19  6 35 39 30 78]\n",
      " [23  0 28 11 17  2 97 85 58 81]\n",
      " [24 25 84 25 17 42 37 56 67 93]\n",
      " [60 24 50  7 63 59 49 19 16 96]\n",
      " [41 79 78 93  3 33 17 11  0 76]\n",
      " [56 16 34 37  8  9 43 51 44 45]\n",
      " [45 78 90 48 53 50 96 11 60 21]\n",
      " [15 12 93 38 68 65 56 13 99  8]\n",
      " [71 82 39 17 47 95 63 24 20 24]\n",
      " [52 84 25 43 68 82 95 33 67 40]]\n"
     ]
    }
   ],
   "source": [
    "M=np.random.randint(0,100,(10,10)) \n",
    "print(M)"
   ]
  },
  {
   "cell_type": "code",
   "execution_count": 154,
   "metadata": {},
   "outputs": [
    {
     "name": "stdout",
     "output_type": "stream",
     "text": [
      "31\n"
     ]
    }
   ],
   "source": [
    "nr=np.random.randint(0,100)\n",
    "print(nr)"
   ]
  },
  {
   "cell_type": "code",
   "execution_count": 155,
   "metadata": {
    "scrolled": true
   },
   "outputs": [
    {
     "name": "stdout",
     "output_type": "stream",
     "text": [
      "Valoarea cea mai apropiata de \"nr\" este:\n",
      "30\n"
     ]
    }
   ],
   "source": [
    "ValCautata = (np.abs(M.flatten()-nr)).argmin()\n",
    "print('Valoarea cea mai apropiata de \"nr\" este:')\n",
    "print(M.flatten()[ValCautata])"
   ]
  },
  {
   "cell_type": "code",
   "execution_count": null,
   "metadata": {},
   "outputs": [],
   "source": []
  },
  {
   "cell_type": "code",
   "execution_count": null,
   "metadata": {},
   "outputs": [],
   "source": []
  }
 ],
 "metadata": {
  "kernelspec": {
   "display_name": "Python 3",
   "language": "python",
   "name": "python3"
  },
  "language_info": {
   "codemirror_mode": {
    "name": "ipython",
    "version": 3
   },
   "file_extension": ".py",
   "mimetype": "text/x-python",
   "name": "python",
   "nbconvert_exporter": "python",
   "pygments_lexer": "ipython3",
   "version": "3.7.4"
  }
 },
 "nbformat": 4,
 "nbformat_minor": 2
}
